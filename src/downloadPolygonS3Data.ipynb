{
 "cells": [
  {
   "cell_type": "code",
   "id": "initial_id",
   "metadata": {
    "collapsed": true,
    "ExecuteTime": {
     "end_time": "2025-08-26T18:15:08.151945Z",
     "start_time": "2025-08-26T18:15:08.020437Z"
    }
   },
   "source": [
    "from src.PolygonS3Access import PolygonS3Access\n",
    "from src.Utils import Utils\n",
    "access: PolygonS3Access = PolygonS3Access()"
   ],
   "outputs": [],
   "execution_count": 2
  },
  {
   "metadata": {
    "ExecuteTime": {
     "end_time": "2025-08-26T18:15:16.040398Z",
     "start_time": "2025-08-26T18:15:08.523305Z"
    }
   },
   "cell_type": "code",
   "source": [
    "access.fetch_pages()\n",
    "access.save_data()"
   ],
   "id": "2a50519b26666f26",
   "outputs": [],
   "execution_count": 3
  },
  {
   "metadata": {
    "ExecuteTime": {
     "end_time": "2025-08-26T18:15:17.089323Z",
     "start_time": "2025-08-26T18:15:17.069818Z"
    }
   },
   "cell_type": "code",
   "source": "access.load_data()",
   "id": "a0edd5ab3cc5a9ed",
   "outputs": [],
   "execution_count": 4
  },
  {
   "metadata": {
    "ExecuteTime": {
     "end_time": "2025-08-26T18:15:20.749984Z",
     "start_time": "2025-08-26T18:15:20.713571Z"
    }
   },
   "cell_type": "code",
   "source": "access.download_missing_day_agg(dry_run=True)",
   "id": "987dc93a42aa8c34",
   "outputs": [],
   "execution_count": 5
  },
  {
   "metadata": {
    "ExecuteTime": {
     "end_time": "2025-08-26T18:15:21.370735Z",
     "start_time": "2025-08-26T18:15:21.330971Z"
    }
   },
   "cell_type": "code",
   "source": "access.download_missing_minute_agg(dry_run=True)",
   "id": "be62b500e01d02af",
   "outputs": [
    {
     "name": "stdout",
     "output_type": "stream",
     "text": [
      "Downloading entry 1/1: us_stocks_sip/minute_aggs_v1/2025/08/2025-08-25.csv.gz\n"
     ]
    }
   ],
   "execution_count": 6
  },
  {
   "metadata": {
    "ExecuteTime": {
     "end_time": "2025-08-26T18:15:31.549286Z",
     "start_time": "2025-08-26T18:15:22.967552Z"
    }
   },
   "cell_type": "code",
   "source": [
    "access.download_missing_day_agg(dry_run=False)\n",
    "access.download_missing_minute_agg(dry_run=False)"
   ],
   "id": "fcfea2ba686209b8",
   "outputs": [
    {
     "name": "stdout",
     "output_type": "stream",
     "text": [
      "Downloading entry 1/1: us_stocks_sip/minute_aggs_v1/2025/08/2025-08-25.csv.gz\n"
     ]
    }
   ],
   "execution_count": 7
  },
  {
   "metadata": {},
   "cell_type": "code",
   "source": "",
   "id": "a6434b2c1c3bc0f0",
   "outputs": [],
   "execution_count": null
  }
 ],
 "metadata": {
  "kernelspec": {
   "display_name": "Python 3",
   "language": "python",
   "name": "python3"
  },
  "language_info": {
   "codemirror_mode": {
    "name": "ipython",
    "version": 2
   },
   "file_extension": ".py",
   "mimetype": "text/x-python",
   "name": "python",
   "nbconvert_exporter": "python",
   "pygments_lexer": "ipython2",
   "version": "2.7.6"
  }
 },
 "nbformat": 4,
 "nbformat_minor": 5
}
