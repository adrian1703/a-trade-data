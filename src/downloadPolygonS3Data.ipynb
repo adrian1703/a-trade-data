{
 "cells": [
  {
   "cell_type": "code",
   "id": "initial_id",
   "metadata": {
    "collapsed": true,
    "ExecuteTime": {
     "end_time": "2025-08-24T15:07:02.107003Z",
     "start_time": "2025-08-24T15:07:01.953859Z"
    }
   },
   "source": [
    "from src.PolygonS3Access import PolygonS3Access\n",
    "from src.Utils import Utils\n",
    "access: PolygonS3Access = PolygonS3Access()"
   ],
   "outputs": [],
   "execution_count": 1
  },
  {
   "metadata": {
    "ExecuteTime": {
     "end_time": "2025-08-24T15:07:02.176879Z",
     "start_time": "2025-08-24T15:07:02.175324Z"
    }
   },
   "cell_type": "code",
   "source": [
    "# access.fetch_pages()\n",
    "# access.save_data()"
   ],
   "id": "2a50519b26666f26",
   "outputs": [],
   "execution_count": 2
  },
  {
   "metadata": {
    "ExecuteTime": {
     "end_time": "2025-08-24T15:07:02.261916Z",
     "start_time": "2025-08-24T15:07:02.243874Z"
    }
   },
   "cell_type": "code",
   "source": "access.load_data()",
   "id": "a0edd5ab3cc5a9ed",
   "outputs": [],
   "execution_count": 3
  },
  {
   "metadata": {
    "ExecuteTime": {
     "end_time": "2025-08-24T15:07:02.300041Z",
     "start_time": "2025-08-24T15:07:02.297172Z"
    }
   },
   "cell_type": "code",
   "source": [
    "# day_aggs = access.get_day_agg_keys()\n",
    "# for idx, agg in enumerate(day_aggs, 1):\n",
    "#     print(f\"Downloading entry {idx}/{len(day_aggs)}: {agg}\")\n",
    "#     access.download(agg, './../data/day_agg')"
   ],
   "id": "f4f4c710f45781a9",
   "outputs": [],
   "execution_count": 4
  },
  {
   "metadata": {
    "ExecuteTime": {
     "end_time": "2025-08-24T15:07:02.361071Z",
     "start_time": "2025-08-24T15:07:02.359617Z"
    }
   },
   "cell_type": "code",
   "source": [
    "# min_agg = access.get_minute_agg_keys()\n",
    "# for idx, agg in enumerate(min_agg, 1):\n",
    "#     print(f\"Downloading entry {idx}/{len(min_agg)}: {agg}\")\n",
    "#     access.download(agg, './../data/minute_agg')"
   ],
   "id": "8675c7ffb2f6e39",
   "outputs": [],
   "execution_count": 5
  },
  {
   "metadata": {
    "ExecuteTime": {
     "end_time": "2025-08-24T15:07:02.440163Z",
     "start_time": "2025-08-24T15:07:02.406416Z"
    }
   },
   "cell_type": "code",
   "source": "access.download_missing_day_agg(dry_run=True)",
   "id": "987dc93a42aa8c34",
   "outputs": [],
   "execution_count": 6
  },
  {
   "metadata": {
    "ExecuteTime": {
     "end_time": "2025-08-24T15:07:02.453082Z",
     "start_time": "2025-08-24T15:07:02.451201Z"
    }
   },
   "cell_type": "code",
   "source": [
    "import os\n",
    "present_files = [f for f in os.listdir(access._day_agg_dir)]"
   ],
   "id": "fea31c47c98ef67c",
   "outputs": [],
   "execution_count": 7
  },
  {
   "metadata": {
    "ExecuteTime": {
     "end_time": "2025-08-24T15:07:02.516884Z",
     "start_time": "2025-08-24T15:07:02.508410Z"
    }
   },
   "cell_type": "code",
   "source": "access._day_agg_dir",
   "id": "1323a93d902a2ca2",
   "outputs": [
    {
     "data": {
      "text/plain": [
       "'./../data/day_aggs_v1/'"
      ]
     },
     "execution_count": 8,
     "metadata": {},
     "output_type": "execute_result"
    }
   ],
   "execution_count": 8
  },
  {
   "metadata": {
    "ExecuteTime": {
     "end_time": "2025-08-24T15:07:02.569874Z",
     "start_time": "2025-08-24T15:07:02.565475Z"
    }
   },
   "cell_type": "code",
   "source": "test = [f for f in os.listdir(access._day_agg_dir) if f.endswith('.gz')]",
   "id": "50488bf85afd1d9",
   "outputs": [],
   "execution_count": 9
  },
  {
   "metadata": {
    "ExecuteTime": {
     "end_time": "2025-08-24T15:07:02.615739Z",
     "start_time": "2025-08-24T15:07:02.612346Z"
    }
   },
   "cell_type": "code",
   "source": "access._fullfilename_to_key(test[0], kind='day_agg_v1')",
   "id": "2796e42dd2b6a617",
   "outputs": [
    {
     "data": {
      "text/plain": [
       "'us_stocks_sip/day_agg_v1/2020/08/2020-08-24.csv.gz'"
      ]
     },
     "execution_count": 10,
     "metadata": {},
     "output_type": "execute_result"
    }
   ],
   "execution_count": 10
  },
  {
   "metadata": {
    "ExecuteTime": {
     "end_time": "2025-08-24T15:07:02.698662Z",
     "start_time": "2025-08-24T15:07:02.697159Z"
    }
   },
   "cell_type": "code",
   "source": "",
   "id": "fcfea2ba686209b8",
   "outputs": [],
   "execution_count": null
  }
 ],
 "metadata": {
  "kernelspec": {
   "display_name": "Python 3",
   "language": "python",
   "name": "python3"
  },
  "language_info": {
   "codemirror_mode": {
    "name": "ipython",
    "version": 2
   },
   "file_extension": ".py",
   "mimetype": "text/x-python",
   "name": "python",
   "nbconvert_exporter": "python",
   "pygments_lexer": "ipython2",
   "version": "2.7.6"
  }
 },
 "nbformat": 4,
 "nbformat_minor": 5
}
