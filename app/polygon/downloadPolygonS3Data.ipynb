{
 "cells": [
  {
   "cell_type": "code",
   "id": "initial_id",
   "metadata": {
    "collapsed": true,
    "ExecuteTime": {
     "end_time": "2025-08-26T21:31:57.746385Z",
     "start_time": "2025-08-26T21:31:57.605709Z"
    }
   },
   "source": [
    "from app.polygon.PolygonS3Access import PolygonS3Access\n",
    "from app.helper.Utils import Utils\n",
    "access: PolygonS3Access = PolygonS3Access()"
   ],
   "outputs": [],
   "execution_count": 1
  },
  {
   "metadata": {},
   "cell_type": "code",
   "source": [
    "access.fetch_pages()\n",
    "access.save_data()"
   ],
   "id": "2a50519b26666f26",
   "outputs": [],
   "execution_count": null
  },
  {
   "metadata": {
    "ExecuteTime": {
     "end_time": "2025-08-26T21:31:58.094120Z",
     "start_time": "2025-08-26T21:31:58.076711Z"
    }
   },
   "cell_type": "code",
   "source": "access.load_data()",
   "id": "a0edd5ab3cc5a9ed",
   "outputs": [],
   "execution_count": 2
  },
  {
   "metadata": {
    "ExecuteTime": {
     "end_time": "2025-08-26T21:32:00.094560Z",
     "start_time": "2025-08-26T21:32:00.057204Z"
    }
   },
   "cell_type": "code",
   "source": "access.download_missing_day_agg(dry_run=True)",
   "id": "987dc93a42aa8c34",
   "outputs": [],
   "execution_count": 3
  },
  {
   "metadata": {
    "ExecuteTime": {
     "end_time": "2025-08-26T21:32:01.198561Z",
     "start_time": "2025-08-26T21:32:01.161737Z"
    }
   },
   "cell_type": "code",
   "source": "access.download_missing_minute_agg(dry_run=True)",
   "id": "be62b500e01d02af",
   "outputs": [],
   "execution_count": 4
  },
  {
   "metadata": {},
   "cell_type": "code",
   "source": [
    "access.download_missing_day_agg(dry_run=False)\n",
    "access.download_missing_minute_agg(dry_run=False)"
   ],
   "id": "fcfea2ba686209b8",
   "outputs": [],
   "execution_count": null
  },
  {
   "metadata": {},
   "cell_type": "code",
   "source": "",
   "id": "a6434b2c1c3bc0f0",
   "outputs": [],
   "execution_count": null
  }
 ],
 "metadata": {
  "kernelspec": {
   "display_name": "Python 3",
   "language": "python",
   "name": "python3"
  },
  "language_info": {
   "codemirror_mode": {
    "name": "ipython",
    "version": 2
   },
   "file_extension": ".py",
   "mimetype": "text/x-python",
   "name": "python",
   "nbconvert_exporter": "python",
   "pygments_lexer": "ipython2",
   "version": "2.7.6"
  }
 },
 "nbformat": 4,
 "nbformat_minor": 5
}
